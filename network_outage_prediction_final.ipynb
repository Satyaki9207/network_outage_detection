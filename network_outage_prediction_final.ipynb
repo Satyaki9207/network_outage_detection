{
 "cells": [
  {
   "cell_type": "code",
   "execution_count": 1,
   "metadata": {},
   "outputs": [
    {
     "data": {
      "text/plain": [
       "'C:\\\\Satyaki\\\\INSOFE_RENNES\\\\week20_PHD\\\\phd_data'"
      ]
     },
     "execution_count": 1,
     "metadata": {},
     "output_type": "execute_result"
    }
   ],
   "source": [
    "import os\n",
    "os.chdir('C:\\\\Satyaki\\\\INSOFE_RENNES\\\\week20_PHD\\\\phd_data')\n",
    "os.getcwd()"
   ]
  },
  {
   "cell_type": "code",
   "execution_count": 2,
   "metadata": {},
   "outputs": [],
   "source": [
    "#!pip install dython\n",
    "#!pip install imblearn\n",
    "#! pip uninstall imblearn --yes"
   ]
  },
  {
   "cell_type": "code",
   "execution_count": 3,
   "metadata": {},
   "outputs": [],
   "source": [
    "import numpy as np\n",
    "import pandas as pd\n",
    "import matplotlib.pyplot as plt\n",
    "import seaborn as sns\n",
    "from dython.nominal import associations\n",
    "from sklearn.preprocessing import OneHotEncoder,StandardScaler,LabelEncoder\n",
    "from sklearn.pipeline import Pipeline\n",
    "from sklearn.compose import ColumnTransformer\n",
    "from sklearn.model_selection import train_test_split,KFold,cross_val_score,GridSearchCV\n",
    "from sklearn.metrics import f1_score,confusion_matrix,roc_auc_score\n",
    "from sklearn.linear_model import LogisticRegression,LinearRegression\n",
    "from lightgbm import LGBMClassifier\n",
    "from collections import Counter\n",
    "from imblearn.over_sampling import SMOTE\n",
    "from catboost import CatBoostClassifier\n",
    "from sklearn.discriminant_analysis import LinearDiscriminantAnalysis\n",
    "import warnings\n",
    "warnings.filterwarnings('ignore')"
   ]
  },
  {
   "cell_type": "code",
   "execution_count": 4,
   "metadata": {},
   "outputs": [
    {
     "name": "stderr",
     "output_type": "stream",
     "text": [
      "Using TensorFlow backend.\n"
     ]
    }
   ],
   "source": [
    "from keras.regularizers import l2\n",
    "from keras.layers import BatchNormalization,Dense,Dropout,Activation,Input,Conv1D,MaxPool1D,Flatten\n",
    "from keras.optimizers import adam\n",
    "from keras.models import Model,Sequential,load_model\n",
    "from keras.utils import to_categorical\n",
    "from keras.callbacks import ModelCheckpoint\n",
    "from keras_radam import RAdam\n",
    "#from keras.wrappers.scikit_learn import KerasClassifier"
   ]
  },
  {
   "cell_type": "code",
   "execution_count": 5,
   "metadata": {},
   "outputs": [],
   "source": [
    "from numba import cuda\n",
    "def flush_gpu():\n",
    "    device=cuda.get_current_device()\n",
    "    device.reset()"
   ]
  },
  {
   "cell_type": "code",
   "execution_count": 6,
   "metadata": {},
   "outputs": [],
   "source": [
    "train=pd.read_csv('train_data.csv')\n",
    "test=pd.read_csv('test_data.csv')\n",
    "broadband=pd.read_csv('broadband_data.csv')\n",
    "outage=pd.read_csv('outage_data.csv')\n",
    "report=pd.read_csv('report_data.csv')\n",
    "server=pd.read_csv('server_data.csv')"
   ]
  },
  {
   "cell_type": "code",
   "execution_count": 7,
   "metadata": {},
   "outputs": [
    {
     "name": "stdout",
     "output_type": "stream",
     "text": [
      "df_train: (5904, 3)\n",
      "df_test: (1477, 2)\n",
      "broadband: (21076, 2)\n",
      "Outage: (18552, 2)\n",
      "Report: (58671, 3)\n",
      "server: (31170, 2)\n"
     ]
    }
   ],
   "source": [
    "print('df_train:',train.shape)\n",
    "print('df_test:',test.shape)\n",
    "print('broadband:',broadband.shape)\n",
    "print('Outage:',outage.shape)\n",
    "print('Report:',report.shape)\n",
    "print('server:',server.shape)"
   ]
  },
  {
   "cell_type": "markdown",
   "metadata": {},
   "source": [
    "### Joining Dataframes"
   ]
  },
  {
   "cell_type": "code",
   "execution_count": 8,
   "metadata": {},
   "outputs": [],
   "source": [
    "df_train=pd.merge(train,broadband,how='left',on='id')\n",
    "df_train=pd.merge(df_train,outage,on='id',how='left')\n",
    "df_train=pd.merge(df_train,report,on='id',how='left')\n",
    "df_train=pd.merge(df_train,server,on='id',how='left')"
   ]
  },
  {
   "cell_type": "code",
   "execution_count": 9,
   "metadata": {},
   "outputs": [],
   "source": [
    "df_test=pd.merge(test,broadband,how='left',on='id').drop_duplicates(subset=['id'])\n",
    "df_test=pd.merge(df_test,outage,on='id',how='left').drop_duplicates(subset=['id'])\n",
    "df_test=pd.merge(df_test,report,on='id',how='left').drop_duplicates(subset=['id'])\n",
    "df_test=pd.merge(df_test,server,on='id',how='left').drop_duplicates(subset=['id'])"
   ]
  },
  {
   "cell_type": "code",
   "execution_count": 10,
   "metadata": {},
   "outputs": [
    {
     "data": {
      "text/html": [
       "<div>\n",
       "<style scoped>\n",
       "    .dataframe tbody tr th:only-of-type {\n",
       "        vertical-align: middle;\n",
       "    }\n",
       "\n",
       "    .dataframe tbody tr th {\n",
       "        vertical-align: top;\n",
       "    }\n",
       "\n",
       "    .dataframe thead th {\n",
       "        text-align: right;\n",
       "    }\n",
       "</style>\n",
       "<table border=\"1\" class=\"dataframe\">\n",
       "  <thead>\n",
       "    <tr style=\"text-align: right;\">\n",
       "      <th></th>\n",
       "      <th>id</th>\n",
       "      <th>area_code</th>\n",
       "      <th>outage_duration</th>\n",
       "      <th>broadband_type</th>\n",
       "      <th>outage_type</th>\n",
       "      <th>log_report_type</th>\n",
       "      <th>volume</th>\n",
       "      <th>transit_server_type</th>\n",
       "    </tr>\n",
       "  </thead>\n",
       "  <tbody>\n",
       "    <tr>\n",
       "      <th>0</th>\n",
       "      <td>13366</td>\n",
       "      <td>area_415</td>\n",
       "      <td>1</td>\n",
       "      <td>broadband_type_2</td>\n",
       "      <td>outage_type_4</td>\n",
       "      <td>log_report_type_312</td>\n",
       "      <td>1</td>\n",
       "      <td>transit_server_type_35</td>\n",
       "    </tr>\n",
       "    <tr>\n",
       "      <th>1</th>\n",
       "      <td>6783</td>\n",
       "      <td>area_474</td>\n",
       "      <td>0</td>\n",
       "      <td>broadband_type_2</td>\n",
       "      <td>outage_type_2</td>\n",
       "      <td>log_report_type_312</td>\n",
       "      <td>2</td>\n",
       "      <td>transit_server_type_35</td>\n",
       "    </tr>\n",
       "    <tr>\n",
       "      <th>2</th>\n",
       "      <td>6783</td>\n",
       "      <td>area_474</td>\n",
       "      <td>0</td>\n",
       "      <td>broadband_type_2</td>\n",
       "      <td>outage_type_2</td>\n",
       "      <td>log_report_type_312</td>\n",
       "      <td>2</td>\n",
       "      <td>transit_server_type_34</td>\n",
       "    </tr>\n",
       "    <tr>\n",
       "      <th>3</th>\n",
       "      <td>6783</td>\n",
       "      <td>area_474</td>\n",
       "      <td>0</td>\n",
       "      <td>broadband_type_2</td>\n",
       "      <td>outage_type_2</td>\n",
       "      <td>log_report_type_233</td>\n",
       "      <td>1</td>\n",
       "      <td>transit_server_type_35</td>\n",
       "    </tr>\n",
       "    <tr>\n",
       "      <th>4</th>\n",
       "      <td>6783</td>\n",
       "      <td>area_474</td>\n",
       "      <td>0</td>\n",
       "      <td>broadband_type_2</td>\n",
       "      <td>outage_type_2</td>\n",
       "      <td>log_report_type_233</td>\n",
       "      <td>1</td>\n",
       "      <td>transit_server_type_34</td>\n",
       "    </tr>\n",
       "  </tbody>\n",
       "</table>\n",
       "</div>"
      ],
      "text/plain": [
       "      id area_code  outage_duration    broadband_type    outage_type  \\\n",
       "0  13366  area_415                1  broadband_type_2  outage_type_4   \n",
       "1   6783  area_474                0  broadband_type_2  outage_type_2   \n",
       "2   6783  area_474                0  broadband_type_2  outage_type_2   \n",
       "3   6783  area_474                0  broadband_type_2  outage_type_2   \n",
       "4   6783  area_474                0  broadband_type_2  outage_type_2   \n",
       "\n",
       "       log_report_type  volume     transit_server_type  \n",
       "0  log_report_type_312       1  transit_server_type_35  \n",
       "1  log_report_type_312       2  transit_server_type_35  \n",
       "2  log_report_type_312       2  transit_server_type_34  \n",
       "3  log_report_type_233       1  transit_server_type_35  \n",
       "4  log_report_type_233       1  transit_server_type_34  "
      ]
     },
     "execution_count": 10,
     "metadata": {},
     "output_type": "execute_result"
    }
   ],
   "source": [
    "df_train.head()"
   ]
  },
  {
   "cell_type": "code",
   "execution_count": 11,
   "metadata": {},
   "outputs": [
    {
     "data": {
      "text/html": [
       "<div>\n",
       "<style scoped>\n",
       "    .dataframe tbody tr th:only-of-type {\n",
       "        vertical-align: middle;\n",
       "    }\n",
       "\n",
       "    .dataframe tbody tr th {\n",
       "        vertical-align: top;\n",
       "    }\n",
       "\n",
       "    .dataframe thead th {\n",
       "        text-align: right;\n",
       "    }\n",
       "</style>\n",
       "<table border=\"1\" class=\"dataframe\">\n",
       "  <thead>\n",
       "    <tr style=\"text-align: right;\">\n",
       "      <th></th>\n",
       "      <th>id</th>\n",
       "      <th>area_code</th>\n",
       "      <th>broadband_type</th>\n",
       "      <th>outage_type</th>\n",
       "      <th>log_report_type</th>\n",
       "      <th>volume</th>\n",
       "      <th>transit_server_type</th>\n",
       "    </tr>\n",
       "  </thead>\n",
       "  <tbody>\n",
       "    <tr>\n",
       "      <th>0</th>\n",
       "      <td>3340</td>\n",
       "      <td>area_344</td>\n",
       "      <td>broadband_type_2</td>\n",
       "      <td>outage_type_4</td>\n",
       "      <td>log_report_type_312</td>\n",
       "      <td>2</td>\n",
       "      <td>transit_server_type_35</td>\n",
       "    </tr>\n",
       "    <tr>\n",
       "      <th>1</th>\n",
       "      <td>14067</td>\n",
       "      <td>area_933</td>\n",
       "      <td>broadband_type_2</td>\n",
       "      <td>outage_type_1</td>\n",
       "      <td>log_report_type_134</td>\n",
       "      <td>1</td>\n",
       "      <td>transit_server_type_20</td>\n",
       "    </tr>\n",
       "    <tr>\n",
       "      <th>2</th>\n",
       "      <td>1134</td>\n",
       "      <td>area_16</td>\n",
       "      <td>broadband_type_8</td>\n",
       "      <td>outage_type_1</td>\n",
       "      <td>log_report_type_155</td>\n",
       "      <td>10</td>\n",
       "      <td>transit_server_type_11</td>\n",
       "    </tr>\n",
       "    <tr>\n",
       "      <th>3</th>\n",
       "      <td>27</td>\n",
       "      <td>area_793</td>\n",
       "      <td>broadband_type_8</td>\n",
       "      <td>outage_type_1</td>\n",
       "      <td>log_report_type_73</td>\n",
       "      <td>3</td>\n",
       "      <td>transit_server_type_11</td>\n",
       "    </tr>\n",
       "    <tr>\n",
       "      <th>4</th>\n",
       "      <td>9793</td>\n",
       "      <td>area_344</td>\n",
       "      <td>broadband_type_2</td>\n",
       "      <td>outage_type_2</td>\n",
       "      <td>log_report_type_312</td>\n",
       "      <td>12</td>\n",
       "      <td>transit_server_type_34</td>\n",
       "    </tr>\n",
       "  </tbody>\n",
       "</table>\n",
       "</div>"
      ],
      "text/plain": [
       "      id area_code    broadband_type    outage_type      log_report_type  \\\n",
       "0   3340  area_344  broadband_type_2  outage_type_4  log_report_type_312   \n",
       "1  14067  area_933  broadband_type_2  outage_type_1  log_report_type_134   \n",
       "2   1134   area_16  broadband_type_8  outage_type_1  log_report_type_155   \n",
       "3     27  area_793  broadband_type_8  outage_type_1   log_report_type_73   \n",
       "4   9793  area_344  broadband_type_2  outage_type_2  log_report_type_312   \n",
       "\n",
       "   volume     transit_server_type  \n",
       "0       2  transit_server_type_35  \n",
       "1       1  transit_server_type_20  \n",
       "2      10  transit_server_type_11  \n",
       "3       3  transit_server_type_11  \n",
       "4      12  transit_server_type_34  "
      ]
     },
     "execution_count": 11,
     "metadata": {},
     "output_type": "execute_result"
    }
   ],
   "source": [
    "df_test.head()"
   ]
  },
  {
   "cell_type": "code",
   "execution_count": 12,
   "metadata": {},
   "outputs": [],
   "source": [
    "df_train['outage_duration']=df_train['outage_duration'].astype('object')"
   ]
  },
  {
   "cell_type": "code",
   "execution_count": 13,
   "metadata": {},
   "outputs": [
    {
     "data": {
      "image/png": "[encoded data removed]",
      "text/plain": [
       "<Figure size 432x288 with 2 Axes>"
      ]
     },
     "metadata": {
      "needs_background": "light"
     },
     "output_type": "display_data"
    },
    {
     "data": {
      "text/plain": [
       "{'corr':                            id (con)  area_code (nom)  outage_duration (con)  \\\n",
       " id (con)                   1.000000         0.492691              -0.024895   \n",
       " area_code (nom)            0.492691         1.000000               0.733750   \n",
       " outage_duration (con)     -0.024895         0.733750               1.000000   \n",
       " broadband_type (nom)       0.088376         0.523596               0.356196   \n",
       " outage_type (nom)          0.037480         0.730033               0.363815   \n",
       " log_report_type (nom)      0.199558         0.291434               0.545549   \n",
       " volume (con)              -0.006974         0.453238              -0.021318   \n",
       " transit_server_type (nom)  0.122598         0.416109               0.467369   \n",
       " \n",
       "                            broadband_type (nom)  outage_type (nom)  \\\n",
       " id (con)                               0.088376           0.037480   \n",
       " area_code (nom)                        0.523596           0.730033   \n",
       " outage_duration (con)                  0.356196           0.363815   \n",
       " broadband_type (nom)                   1.000000           0.260397   \n",
       " outage_type (nom)                      0.260397           1.000000   \n",
       " log_report_type (nom)                  0.483269           0.613360   \n",
       " volume (con)                           0.085661           0.082521   \n",
       " transit_server_type (nom)              0.471283           0.566025   \n",
       " \n",
       "                            log_report_type (nom)  volume (con)  \\\n",
       " id (con)                                0.199558     -0.006974   \n",
       " area_code (nom)                         0.291434      0.453238   \n",
       " outage_duration (con)                   0.545549     -0.021318   \n",
       " broadband_type (nom)                    0.483269      0.085661   \n",
       " outage_type (nom)                       0.613360      0.082521   \n",
       " log_report_type (nom)                   1.000000      0.376827   \n",
       " volume (con)                            0.376827      1.000000   \n",
       " transit_server_type (nom)               0.411323      0.171640   \n",
       " \n",
       "                            transit_server_type (nom)  \n",
       " id (con)                                    0.122598  \n",
       " area_code (nom)                             0.416109  \n",
       " outage_duration (con)                       0.467369  \n",
       " broadband_type (nom)                        0.471283  \n",
       " outage_type (nom)                           0.566025  \n",
       " log_report_type (nom)                       0.411323  \n",
       " volume (con)                                0.171640  \n",
       " transit_server_type (nom)                   1.000000  ,\n",
       " 'ax': <matplotlib.axes._subplots.AxesSubplot at 0x20d87f61c08>}"
      ]
     },
     "execution_count": 13,
     "metadata": {},
     "output_type": "execute_result"
    }
   ],
   "source": [
    "associations(df_train,mark_columns=True)"
   ]
  },
  {
   "cell_type": "markdown",
   "metadata": {},
   "source": [
    "### Exploratory Data Analysis"
   ]
  },
  {
   "cell_type": "code",
   "execution_count": 14,
   "metadata": {},
   "outputs": [
    {
     "data": {
      "text/plain": [
       "broadband_type_2     25074\n",
       "broadband_type_8     15981\n",
       "broadband_type_7      2237\n",
       "broadband_type_6      2038\n",
       "broadband_type_4      1469\n",
       "broadband_type_9       643\n",
       "broadband_type_3       561\n",
       "broadband_type_1       481\n",
       "broadband_type_10      379\n",
       "broadband_type_5       110\n",
       "Name: broadband_type, dtype: int64"
      ]
     },
     "execution_count": 14,
     "metadata": {},
     "output_type": "execute_result"
    }
   ],
   "source": [
    "df_train['broadband_type'].value_counts()"
   ]
  },
  {
   "cell_type": "code",
   "execution_count": 15,
   "metadata": {},
   "outputs": [],
   "source": [
    "# decoding broadband types and creating derived features\n",
    "b_dict={'broadband_type_1':'Fiber_Ultra',\n",
    "       'broadband_type_2':'ADSL2',\n",
    "       'broadband_type_3':'Fiber2',\n",
    "       'broadband_type_4':'Fiber1',\n",
    "       'broadband_type_5':'Fiber_Ultra_max',\n",
    "       'broadband_type_6':'ADSL2+',\n",
    "       'broadband_type_7':'Cable',\n",
    "       'broadband_type_8':'ADSL1',\n",
    "       'broadband_type_9':'BPL',\n",
    "       'broadband_type_10':'Fiber_High_speed'}\n",
    "\n",
    "speed_dict={'BPL':0,'ADSL1':1,'ADSL2':2,'ADSL2+':3,'Cable':4,'Fiber1':5,'Fiber2':6,'Fiber_High_speed':7,\n",
    "           'Fiber_Ultra':8,'Fiber_Ultra_max':9}\n",
    "speed_var={'BPL':1,'ADSL1':1,'ADSL2':1,'ADSL2+':1,'Cable':0,'Fiber1':0,'Fiber2':0,'Fiber_High_speed':0,'Fiber_Ultra':0,\n",
    "          'Fiber_Ultra_max':0}\n",
    "\n",
    "df_train['broadband_type'].replace(b_dict,inplace=True)\n",
    "df_test['broadband_type'].replace(b_dict,inplace=True)\n",
    "\n",
    "df_train['Bandwidth']=df_train['broadband_type'].apply(lambda x:speed_dict[x])\n",
    "df_train['Speed_var_over_dist']=df_train['broadband_type'].apply(lambda x: speed_var[x])\n",
    "\n",
    "df_test['Bandwidth']=df_test['broadband_type'].apply(lambda x:speed_dict[x])\n",
    "df_test['Speed_var_over_dist']=df_test['broadband_type'].apply(lambda x: speed_var[x])"
   ]
  },
  {
   "cell_type": "code",
   "execution_count": 16,
   "metadata": {},
   "outputs": [
    {
     "data": {
      "text/html": [
       "<div>\n",
       "<style scoped>\n",
       "    .dataframe tbody tr th:only-of-type {\n",
       "        vertical-align: middle;\n",
       "    }\n",
       "\n",
       "    .dataframe tbody tr th {\n",
       "        vertical-align: top;\n",
       "    }\n",
       "\n",
       "    .dataframe thead th {\n",
       "        text-align: right;\n",
       "    }\n",
       "</style>\n",
       "<table border=\"1\" class=\"dataframe\">\n",
       "  <thead>\n",
       "    <tr style=\"text-align: right;\">\n",
       "      <th></th>\n",
       "      <th>id</th>\n",
       "      <th>area_code</th>\n",
       "      <th>outage_duration</th>\n",
       "      <th>broadband_type</th>\n",
       "      <th>outage_type</th>\n",
       "      <th>log_report_type</th>\n",
       "      <th>volume</th>\n",
       "      <th>transit_server_type</th>\n",
       "      <th>Bandwidth</th>\n",
       "      <th>Speed_var_over_dist</th>\n",
       "    </tr>\n",
       "  </thead>\n",
       "  <tbody>\n",
       "    <tr>\n",
       "      <th>0</th>\n",
       "      <td>13366</td>\n",
       "      <td>area_415</td>\n",
       "      <td>1</td>\n",
       "      <td>ADSL2</td>\n",
       "      <td>outage_type_4</td>\n",
       "      <td>log_report_type_312</td>\n",
       "      <td>1</td>\n",
       "      <td>transit_server_type_35</td>\n",
       "      <td>2</td>\n",
       "      <td>1</td>\n",
       "    </tr>\n",
       "    <tr>\n",
       "      <th>1</th>\n",
       "      <td>6783</td>\n",
       "      <td>area_474</td>\n",
       "      <td>0</td>\n",
       "      <td>ADSL2</td>\n",
       "      <td>outage_type_2</td>\n",
       "      <td>log_report_type_312</td>\n",
       "      <td>2</td>\n",
       "      <td>transit_server_type_35</td>\n",
       "      <td>2</td>\n",
       "      <td>1</td>\n",
       "    </tr>\n",
       "    <tr>\n",
       "      <th>2</th>\n",
       "      <td>6783</td>\n",
       "      <td>area_474</td>\n",
       "      <td>0</td>\n",
       "      <td>ADSL2</td>\n",
       "      <td>outage_type_2</td>\n",
       "      <td>log_report_type_312</td>\n",
       "      <td>2</td>\n",
       "      <td>transit_server_type_34</td>\n",
       "      <td>2</td>\n",
       "      <td>1</td>\n",
       "    </tr>\n",
       "    <tr>\n",
       "      <th>3</th>\n",
       "      <td>6783</td>\n",
       "      <td>area_474</td>\n",
       "      <td>0</td>\n",
       "      <td>ADSL2</td>\n",
       "      <td>outage_type_2</td>\n",
       "      <td>log_report_type_233</td>\n",
       "      <td>1</td>\n",
       "      <td>transit_server_type_35</td>\n",
       "      <td>2</td>\n",
       "      <td>1</td>\n",
       "    </tr>\n",
       "    <tr>\n",
       "      <th>4</th>\n",
       "      <td>6783</td>\n",
       "      <td>area_474</td>\n",
       "      <td>0</td>\n",
       "      <td>ADSL2</td>\n",
       "      <td>outage_type_2</td>\n",
       "      <td>log_report_type_233</td>\n",
       "      <td>1</td>\n",
       "      <td>transit_server_type_34</td>\n",
       "      <td>2</td>\n",
       "      <td>1</td>\n",
       "    </tr>\n",
       "  </tbody>\n",
       "</table>\n",
       "</div>"
      ],
      "text/plain": [
       "      id area_code  outage_duration broadband_type    outage_type  \\\n",
       "0  13366  area_415                1          ADSL2  outage_type_4   \n",
       "1   6783  area_474                0          ADSL2  outage_type_2   \n",
       "2   6783  area_474                0          ADSL2  outage_type_2   \n",
       "3   6783  area_474                0          ADSL2  outage_type_2   \n",
       "4   6783  area_474                0          ADSL2  outage_type_2   \n",
       "\n",
       "       log_report_type  volume     transit_server_type  Bandwidth  \\\n",
       "0  log_report_type_312       1  transit_server_type_35          2   \n",
       "1  log_report_type_312       2  transit_server_type_35          2   \n",
       "2  log_report_type_312       2  transit_server_type_34          2   \n",
       "3  log_report_type_233       1  transit_server_type_35          2   \n",
       "4  log_report_type_233       1  transit_server_type_34          2   \n",
       "\n",
       "   Speed_var_over_dist  \n",
       "0                    1  \n",
       "1                    1  \n",
       "2                    1  \n",
       "3                    1  \n",
       "4                    1  "
      ]
     },
     "execution_count": 16,
     "metadata": {},
     "output_type": "execute_result"
    }
   ],
   "source": [
    "df_train.head()"
   ]
  },
  {
   "cell_type": "code",
   "execution_count": 17,
   "metadata": {},
   "outputs": [
    {
     "data": {
      "text/html": [
       "<div>\n",
       "<style scoped>\n",
       "    .dataframe tbody tr th:only-of-type {\n",
       "        vertical-align: middle;\n",
       "    }\n",
       "\n",
       "    .dataframe tbody tr th {\n",
       "        vertical-align: top;\n",
       "    }\n",
       "\n",
       "    .dataframe thead th {\n",
       "        text-align: right;\n",
       "    }\n",
       "</style>\n",
       "<table border=\"1\" class=\"dataframe\">\n",
       "  <thead>\n",
       "    <tr style=\"text-align: right;\">\n",
       "      <th></th>\n",
       "      <th>id</th>\n",
       "      <th>area_code</th>\n",
       "      <th>broadband_type</th>\n",
       "      <th>outage_type</th>\n",
       "      <th>log_report_type</th>\n",
       "      <th>volume</th>\n",
       "      <th>transit_server_type</th>\n",
       "      <th>Bandwidth</th>\n",
       "      <th>Speed_var_over_dist</th>\n",
       "    </tr>\n",
       "  </thead>\n",
       "  <tbody>\n",
       "    <tr>\n",
       "      <th>0</th>\n",
       "      <td>3340</td>\n",
       "      <td>area_344</td>\n",
       "      <td>ADSL2</td>\n",
       "      <td>outage_type_4</td>\n",
       "      <td>log_report_type_312</td>\n",
       "      <td>2</td>\n",
       "      <td>transit_server_type_35</td>\n",
       "      <td>2</td>\n",
       "      <td>1</td>\n",
       "    </tr>\n",
       "    <tr>\n",
       "      <th>1</th>\n",
       "      <td>14067</td>\n",
       "      <td>area_933</td>\n",
       "      <td>ADSL2</td>\n",
       "      <td>outage_type_1</td>\n",
       "      <td>log_report_type_134</td>\n",
       "      <td>1</td>\n",
       "      <td>transit_server_type_20</td>\n",
       "      <td>2</td>\n",
       "      <td>1</td>\n",
       "    </tr>\n",
       "    <tr>\n",
       "      <th>2</th>\n",
       "      <td>1134</td>\n",
       "      <td>area_16</td>\n",
       "      <td>ADSL1</td>\n",
       "      <td>outage_type_1</td>\n",
       "      <td>log_report_type_155</td>\n",
       "      <td>10</td>\n",
       "      <td>transit_server_type_11</td>\n",
       "      <td>1</td>\n",
       "      <td>1</td>\n",
       "    </tr>\n",
       "    <tr>\n",
       "      <th>3</th>\n",
       "      <td>27</td>\n",
       "      <td>area_793</td>\n",
       "      <td>ADSL1</td>\n",
       "      <td>outage_type_1</td>\n",
       "      <td>log_report_type_73</td>\n",
       "      <td>3</td>\n",
       "      <td>transit_server_type_11</td>\n",
       "      <td>1</td>\n",
       "      <td>1</td>\n",
       "    </tr>\n",
       "    <tr>\n",
       "      <th>4</th>\n",
       "      <td>9793</td>\n",
       "      <td>area_344</td>\n",
       "      <td>ADSL2</td>\n",
       "      <td>outage_type_2</td>\n",
       "      <td>log_report_type_312</td>\n",
       "      <td>12</td>\n",
       "      <td>transit_server_type_34</td>\n",
       "      <td>2</td>\n",
       "      <td>1</td>\n",
       "    </tr>\n",
       "  </tbody>\n",
       "</table>\n",
       "</div>"
      ],
      "text/plain": [
       "      id area_code broadband_type    outage_type      log_report_type  volume  \\\n",
       "0   3340  area_344          ADSL2  outage_type_4  log_report_type_312       2   \n",
       "1  14067  area_933          ADSL2  outage_type_1  log_report_type_134       1   \n",
       "2   1134   area_16          ADSL1  outage_type_1  log_report_type_155      10   \n",
       "3     27  area_793          ADSL1  outage_type_1   log_report_type_73       3   \n",
       "4   9793  area_344          ADSL2  outage_type_2  log_report_type_312      12   \n",
       "\n",
       "      transit_server_type  Bandwidth  Speed_var_over_dist  \n",
       "0  transit_server_type_35          2                    1  \n",
       "1  transit_server_type_20          2                    1  \n",
       "2  transit_server_type_11          1                    1  \n",
       "3  transit_server_type_11          1                    1  \n",
       "4  transit_server_type_34          2                    1  "
      ]
     },
     "execution_count": 17,
     "metadata": {},
     "output_type": "execute_result"
    }
   ],
   "source": [
    "df_test.head()"
   ]
  },
  {
   "cell_type": "code",
   "execution_count": 28,
   "metadata": {},
   "outputs": [
    {
     "data": {
      "text/plain": [
       "(48973, 10)"
      ]
     },
     "execution_count": 28,
     "metadata": {},
     "output_type": "execute_result"
    }
   ],
   "source": [
    "df_train.shape"
   ]
  },
  {
   "cell_type": "code",
   "execution_count": 18,
   "metadata": {},
   "outputs": [
    {
     "data": {
      "image/png": "[encoded data removed]",
      "text/plain": [
       "<Figure size 432x288 with 1 Axes>"
      ]
     },
     "metadata": {
      "needs_background": "light"
     },
     "output_type": "display_data"
    }
   ],
   "source": [
    "sns.countplot(df_train['outage_duration']);"
   ]
  },
  {
   "cell_type": "code",
   "execution_count": 19,
   "metadata": {},
   "outputs": [
    {
     "name": "stdout",
     "output_type": "stream",
     "text": [
      "      area_code  volume\n",
      "17     area_600      30\n",
      "18     area_600      14\n",
      "79     area_962      16\n",
      "80     area_962      16\n",
      "81     area_962      16\n",
      "...         ...     ...\n",
      "48902  area_866       9\n",
      "48937  area_962      47\n",
      "48938  area_962      35\n",
      "48965  area_798       3\n",
      "48966  area_798      25\n",
      "\n",
      "[6814 rows x 2 columns]\n"
     ]
    }
   ],
   "source": [
    "# Finding areas and broadband types prone to long outages\n",
    "long_outage=df_train.loc[df_train['outage_duration']==2,['area_code','volume']]\n",
    "print(long_outage)"
   ]
  },
  {
   "cell_type": "code",
   "execution_count": 20,
   "metadata": {},
   "outputs": [
    {
     "name": "stdout",
     "output_type": "stream",
     "text": [
      "      area_code  volume\n",
      "0      area_415       1\n",
      "13     area_931       3\n",
      "14     area_931       6\n",
      "15     area_931       2\n",
      "16     area_700       1\n",
      "...         ...     ...\n",
      "48930  area_995       1\n",
      "48931  area_995       1\n",
      "48932  area_995       2\n",
      "48933  area_995       2\n",
      "48950  area_403       1\n",
      "\n",
      "[12812 rows x 2 columns]\n"
     ]
    }
   ],
   "source": [
    "# Finding areas and broadband types prone to short outages\n",
    "short_outage=df_train.loc[df_train['outage_duration']==1,['area_code','volume']]\n",
    "print(short_outage)"
   ]
  },
  {
   "cell_type": "markdown",
   "metadata": {},
   "source": [
    "From the above plots it can be seen that ADSL2 and ADSL1 connections are most prone to outages.Of these ADSL1 type connections are most problematic having maximum number of long and short outages. ADSL2 connections are better than ADSL1 connections with significantly lower number of outages"
   ]
  },
  {
   "cell_type": "code",
   "execution_count": 21,
   "metadata": {},
   "outputs": [
    {
     "data": {
      "text/plain": [
       "Text(0.5, 1.0, 'Outage Types')"
      ]
     },
     "execution_count": 21,
     "metadata": {},
     "output_type": "execute_result"
    },
    {
     "data": {
      "image/png": "[encoded data removed]",
      "text/plain": [
       "<Figure size 432x288 with 1 Axes>"
      ]
     },
     "metadata": {
      "needs_background": "light"
     },
     "output_type": "display_data"
    }
   ],
   "source": [
    "sns.countplot(df_train['outage_type'])\n",
    "plt.xticks(rotation=90)\n",
    "plt.title('Outage Types')"
   ]
  },
  {
   "cell_type": "markdown",
   "metadata": {},
   "source": [
    "outage types 1 and 2 are most common"
   ]
  },
  {
   "cell_type": "code",
   "execution_count": 22,
   "metadata": {},
   "outputs": [
    {
     "data": {
      "text/plain": [
       "ADSL2               25074\n",
       "ADSL1               15981\n",
       "Cable                2237\n",
       "ADSL2+               2038\n",
       "Fiber1               1469\n",
       "BPL                   643\n",
       "Fiber2                561\n",
       "Fiber_Ultra           481\n",
       "Fiber_High_speed      379\n",
       "Fiber_Ultra_max       110\n",
       "Name: broadband_type, dtype: int64"
      ]
     },
     "execution_count": 22,
     "metadata": {},
     "output_type": "execute_result"
    }
   ],
   "source": [
    "df_train['broadband_type'].value_counts()"
   ]
  },
  {
   "cell_type": "code",
   "execution_count": 23,
   "metadata": {},
   "outputs": [],
   "source": [
    "#Converting variables to correct datatypes\n",
    "numattr=['volume','Bandwidth']\n",
    "catattr=df_train.columns.difference(numattr).drop('outage_duration')\n",
    "\n",
    "df_train[catattr]=df_train[catattr].astype('category')\n",
    "df_train[numattr]=df_train[numattr].astype('int64')\n",
    "\n",
    "df_test[catattr]=df_test[catattr].astype('category')\n",
    "df_test[numattr]=df_test[numattr].astype('int64')"
   ]
  },
  {
   "cell_type": "code",
   "execution_count": 24,
   "metadata": {},
   "outputs": [
    {
     "name": "stdout",
     "output_type": "stream",
     "text": [
      "id                     category\n",
      "area_code              category\n",
      "outage_duration           int64\n",
      "broadband_type         category\n",
      "outage_type            category\n",
      "log_report_type        category\n",
      "volume                    int64\n",
      "transit_server_type    category\n",
      "Bandwidth                 int64\n",
      "Speed_var_over_dist    category\n",
      "dtype: object\n",
      "------------------------------------------------------------\n",
      "id                     category\n",
      "area_code              category\n",
      "broadband_type         category\n",
      "outage_type            category\n",
      "log_report_type        category\n",
      "volume                    int64\n",
      "transit_server_type    category\n",
      "Bandwidth                 int64\n",
      "Speed_var_over_dist    category\n",
      "dtype: object\n"
     ]
    }
   ],
   "source": [
    "print(df_train.dtypes)\n",
    "print('--'*30)\n",
    "print(df_test.dtypes)"
   ]
  },
  {
   "cell_type": "code",
   "execution_count": 25,
   "metadata": {},
   "outputs": [
    {
     "name": "stdout",
     "output_type": "stream",
     "text": [
      "id 5904\n",
      "area_code 876\n",
      "outage_duration 3\n",
      "broadband_type 10\n",
      "outage_type 5\n",
      "log_report_type 310\n",
      "volume 240\n",
      "transit_server_type 49\n",
      "Bandwidth 10\n",
      "Speed_var_over_dist 2\n"
     ]
    }
   ],
   "source": [
    "# Finding number of unique levels for each categorical variable\n",
    "for i in df_train.columns:\n",
    "    print(i,len(np.unique(df_train[i])))"
   ]
  },
  {
   "cell_type": "code",
   "execution_count": 26,
   "metadata": {},
   "outputs": [
    {
     "name": "stdout",
     "output_type": "stream",
     "text": [
      "id 1477\n",
      "area_code 531\n",
      "broadband_type 10\n",
      "outage_type 4\n",
      "log_report_type 138\n",
      "volume 82\n",
      "transit_server_type 33\n",
      "Bandwidth 10\n",
      "Speed_var_over_dist 2\n"
     ]
    }
   ],
   "source": [
    "for i in df_test.columns:\n",
    "    print(i,len(np.unique(df_test[i])))"
   ]
  },
  {
   "cell_type": "code",
   "execution_count": 29,
   "metadata": {},
   "outputs": [
    {
     "name": "stdout",
     "output_type": "stream",
     "text": [
      "(48973, 9)\n",
      "(1477, 9)\n"
     ]
    }
   ],
   "source": [
    "df_temp=pd.concat([df_train.drop('outage_duration',axis=1),df_test],axis=0)\n",
    "le=LabelEncoder()\n",
    "for i in catattr:\n",
    "    df_temp[i]=le.fit_transform(df_temp[i])\n",
    "X=df_temp[:48973]\n",
    "X_test=df_temp[48973:]\n",
    "print(X.shape)\n",
    "print(X_test.shape)"
   ]
  },
  {
   "cell_type": "code",
   "execution_count": null,
   "metadata": {},
   "outputs": [],
   "source": []
  },
  {
   "cell_type": "markdown",
   "metadata": {},
   "source": [
    "### Model Building"
   ]
  },
  {
   "cell_type": "code",
   "execution_count": 30,
   "metadata": {},
   "outputs": [
    {
     "name": "stdout",
     "output_type": "stream",
     "text": [
      "(44075, 9) (44075,)\n",
      "(4898, 9) (4898,)\n"
     ]
    }
   ],
   "source": [
    "y=df_train['outage_duration']\n",
    "X_train,X_val,y_train,y_val=train_test_split(X,y,test_size=0.1,random_state=23)\n",
    "print(X_train.shape,y_train.shape)\n",
    "print(X_val.shape,y_val.shape)"
   ]
  },
  {
   "cell_type": "code",
   "execution_count": 31,
   "metadata": {},
   "outputs": [
    {
     "data": {
      "text/plain": [
       "0    26443\n",
       "1    11525\n",
       "2     6107\n",
       "Name: outage_duration, dtype: int64"
      ]
     },
     "execution_count": 31,
     "metadata": {},
     "output_type": "execute_result"
    }
   ],
   "source": [
    "y_train.value_counts()"
   ]
  },
  {
   "cell_type": "markdown",
   "metadata": {},
   "source": [
    "#### Upsampling"
   ]
  },
  {
   "cell_type": "code",
   "execution_count": 32,
   "metadata": {},
   "outputs": [
    {
     "data": {
      "text/plain": [
       "0    26443\n",
       "1    26392\n",
       "2    26382\n",
       "Name: outage_duration, dtype: int64"
      ]
     },
     "execution_count": 32,
     "metadata": {},
     "output_type": "execute_result"
    }
   ],
   "source": [
    "nc0,nc1,nc2=Counter(y_train)[0],Counter(y_train)[1],Counter(y_train)[2]\n",
    "sm=SMOTE(random_state=23,sampling_strategy={0:int(nc0),1:int(2.29*nc1),2:int(4.32*nc2)})\n",
    "X_trainA,y_trainA=sm.fit_resample(X_train,y_train)\n",
    "y_trainA.value_counts()"
   ]
  },
  {
   "cell_type": "code",
   "execution_count": 33,
   "metadata": {},
   "outputs": [
    {
     "data": {
      "text/plain": [
       "ColumnTransformer(remainder='passthrough',\n",
       "                  transformers=[('num',\n",
       "                                 Pipeline(steps=[('scaler', StandardScaler())]),\n",
       "                                 ['volume', 'Bandwidth']),\n",
       "                                ('cat',\n",
       "                                 Pipeline(steps=[('onehot',\n",
       "                                                  OneHotEncoder(handle_unknown='ignore'))]),\n",
       "                                 Index(['Speed_var_over_dist', 'area_code', 'broadband_type', 'id',\n",
       "       'log_report_type', 'outage_type', 'transit_server_type'],\n",
       "      dtype='object'))])"
      ]
     },
     "execution_count": 33,
     "metadata": {},
     "output_type": "execute_result"
    }
   ],
   "source": [
    "num_transformer=Pipeline(steps=[\n",
    "    ('scaler',StandardScaler())\n",
    "])\n",
    "cat_transformer=Pipeline(steps=[\n",
    "    ('onehot',OneHotEncoder(handle_unknown='ignore'))\n",
    "])\n",
    "preprocessor=ColumnTransformer(transformers=[\n",
    "    ('num',num_transformer,numattr),\n",
    "    ('cat',cat_transformer,catattr)\n",
    "],remainder='passthrough')\n",
    "preprocessor.fit(X_trainA)"
   ]
  },
  {
   "cell_type": "code",
   "execution_count": 34,
   "metadata": {},
   "outputs": [
    {
     "name": "stdout",
     "output_type": "stream",
     "text": [
      "(79217, 8023)\n",
      "(4898, 8023)\n",
      "(1477, 8023)\n"
     ]
    }
   ],
   "source": [
    "X_train1=preprocessor.transform(X_trainA)\n",
    "X_val1=preprocessor.transform(X_val)\n",
    "X_test1=preprocessor.transform(X_test)\n",
    "print(X_train1.shape)\n",
    "print(X_val1.shape)\n",
    "print(X_test1.shape)"
   ]
  },
  {
   "cell_type": "markdown",
   "metadata": {},
   "source": [
    "#### Logistic Regression"
   ]
  },
  {
   "cell_type": "code",
   "execution_count": 35,
   "metadata": {},
   "outputs": [
    {
     "data": {
      "text/plain": [
       "0.9431037057974536"
      ]
     },
     "execution_count": 35,
     "metadata": {},
     "output_type": "execute_result"
    }
   ],
   "source": [
    "lr=LogisticRegression(C=0.5,max_iter=1000,multi_class='ovr')\n",
    "lr.fit(X_train1,y_trainA)\n",
    "pred=lr.predict(X_val1)\n",
    "f1_score(y_val,pred,average='macro')"
   ]
  },
  {
   "cell_type": "markdown",
   "metadata": {},
   "source": [
    "#### Feature engineering using Auto Encoder"
   ]
  },
  {
   "cell_type": "code",
   "execution_count": 36,
   "metadata": {},
   "outputs": [],
   "source": [
    "input_dim=X_train1.shape[1]"
   ]
  },
  {
   "cell_type": "code",
   "execution_count": 50,
   "metadata": {},
   "outputs": [],
   "source": [
    "# Defining auto-encoder architecture\n",
    "input_layer=Input(shape=(input_dim,))\n",
    "\n",
    "encoder=Dense(1000,activation='relu',kernel_initializer='glorot_normal',kernel_regularizer=l2(0.001))(input_layer)\n",
    "encoder=BatchNormalization()(encoder)\n",
    "encoder=Dropout(0.1)(encoder)\n",
    "\n",
    "encoder=Dense(100,activation='relu',kernel_initializer='glorot_normal')(encoder)\n",
    "encoder=BatchNormalization()(encoder)\n",
    "\n",
    "decoder=Dense(1000,activation='relu',kernel_initializer='glorot_normal',kernel_regularizer=l2(0.001))(encoder)\n",
    "\n",
    "\n",
    "decoder=Dense(input_dim,activation='linear')(decoder)\n",
    "\n",
    "autoencoder=Model(inputs=input_layer,outputs=decoder)"
   ]
  },
  {
   "cell_type": "code",
   "execution_count": 51,
   "metadata": {},
   "outputs": [
    {
     "name": "stdout",
     "output_type": "stream",
     "text": [
      "Model: \"model_3\"\n",
      "_________________________________________________________________\n",
      "Layer (type)                 Output Shape              Param #   \n",
      "=================================================================\n",
      "input_2 (InputLayer)         (None, 8023)              0         \n",
      "_________________________________________________________________\n",
      "dense_7 (Dense)              (None, 1000)              8024000   \n",
      "_________________________________________________________________\n",
      "batch_normalization_5 (Batch (None, 1000)              4000      \n",
      "_________________________________________________________________\n",
      "dropout_4 (Dropout)          (None, 1000)              0         \n",
      "_________________________________________________________________\n",
      "dense_8 (Dense)              (None, 100)               100100    \n",
      "_________________________________________________________________\n",
      "batch_normalization_6 (Batch (None, 100)               400       \n",
      "_________________________________________________________________\n",
      "dense_9 (Dense)              (None, 1000)              101000    \n",
      "_________________________________________________________________\n",
      "dense_10 (Dense)             (None, 8023)              8031023   \n",
      "=================================================================\n",
      "Total params: 16,260,523\n",
      "Trainable params: 16,258,323\n",
      "Non-trainable params: 2,200\n",
      "_________________________________________________________________\n"
     ]
    }
   ],
   "source": [
    "autoencoder.summary()"
   ]
  },
  {
   "cell_type": "code",
   "execution_count": 52,
   "metadata": {},
   "outputs": [
    {
     "name": "stdout",
     "output_type": "stream",
     "text": [
      "Train on 71295 samples, validate on 7922 samples\n",
      "Epoch 1/10\n",
      "71295/71295 [==============================] - 51s 721us/step - loss: 0.0186 - mse: 6.3776e-04 - val_loss: 0.0019 - val_mse: 0.0015\n",
      "Epoch 2/10\n",
      "71295/71295 [==============================] - 51s 712us/step - loss: 6.3977e-04 - mse: 5.0717e-04 - val_loss: 6.5006e-04 - val_mse: 5.2438e-04\n",
      "Epoch 3/10\n",
      "71295/71295 [==============================] - 51s 710us/step - loss: 6.5537e-04 - mse: 4.9810e-04 - val_loss: 5.9439e-04 - val_mse: 4.9548e-04\n",
      "Epoch 4/10\n",
      "71295/71295 [==============================] - 51s 712us/step - loss: 6.2391e-04 - mse: 4.8733e-04 - val_loss: 6.7778e-04 - val_mse: 5.6107e-04\n",
      "Epoch 5/10\n",
      "71295/71295 [==============================] - 51s 716us/step - loss: 5.9652e-04 - mse: 4.7412e-04 - val_loss: 5.9530e-04 - val_mse: 5.0252e-04\n",
      "Epoch 6/10\n",
      "71295/71295 [==============================] - 51s 714us/step - loss: 5.9245e-04 - mse: 4.6947e-04 - val_loss: 6.0595e-04 - val_mse: 5.1746e-04\n",
      "Epoch 7/10\n",
      "71295/71295 [==============================] - 50s 698us/step - loss: 5.9491e-04 - mse: 4.6714e-04 - val_loss: 6.0126e-04 - val_mse: 4.8277e-04\n",
      "Epoch 8/10\n",
      "71295/71295 [==============================] - 50s 703us/step - loss: 5.6769e-04 - mse: 4.6100e-04 - val_loss: 5.6937e-04 - val_mse: 4.7524e-04\n",
      "Epoch 9/10\n",
      "71295/71295 [==============================] - 50s 703us/step - loss: 5.6303e-04 - mse: 4.5632e-04 - val_loss: 5.8427e-04 - val_mse: 4.7673e-04\n",
      "Epoch 10/10\n",
      "71295/71295 [==============================] - 50s 704us/step - loss: 5.6049e-04 - mse: 4.5456e-04 - val_loss: 6.1013e-04 - val_mse: 4.8561e-04\n"
     ]
    }
   ],
   "source": [
    "autoencoder.compile(optimizer='adam',loss='mean_squared_error',metrics=['mse'])\n",
    "hist=autoencoder.fit(X_train1,X_train1,batch_size=64,epochs=10,shuffle=True,validation_split=0.1,verbose=1)"
   ]
  },
  {
   "cell_type": "code",
   "execution_count": 41,
   "metadata": {},
   "outputs": [],
   "source": [
    "# Encoder for feature extraction\n",
    "encoder=Model(inputs=input_layer,outputs=encoder)"
   ]
  },
  {
   "cell_type": "code",
   "execution_count": 42,
   "metadata": {},
   "outputs": [],
   "source": [
    "encoded_features_train=encoder.predict(X_train1)\n",
    "encoded_features_val=encoder.predict(X_val1)\n",
    "encoded_features_test=encoder.predict(X_test1)"
   ]
  },
  {
   "cell_type": "code",
   "execution_count": 43,
   "metadata": {},
   "outputs": [],
   "source": [
    "X_train2=np.concatenate([X_train1.toarray(),encoded_features_train],axis=1)\n",
    "X_val2=np.concatenate([X_val1.toarray(),encoded_features_val],axis=1)\n",
    "X_test2=np.concatenate([X_test1.toarray(),encoded_features_test],axis=1)"
   ]
  },
  {
   "cell_type": "code",
   "execution_count": 44,
   "metadata": {},
   "outputs": [
    {
     "data": {
      "text/plain": [
       "(79217, 8053)"
      ]
     },
     "execution_count": 44,
     "metadata": {},
     "output_type": "execute_result"
    }
   ],
   "source": [
    "X_train2.shape"
   ]
  },
  {
   "cell_type": "markdown",
   "metadata": {},
   "source": [
    "#### Defining function for model evaluation"
   ]
  },
  {
   "cell_type": "code",
   "execution_count": 42,
   "metadata": {},
   "outputs": [],
   "source": [
    "def model_eval(model,X=X_val2,y=y_val):\n",
    "    pred=model.predict(X)\n",
    "    y_prob=model.predict_proba(X)\n",
    "    print('f1_score:',f1_score(y,pred,average='macro'))\n",
    "    print('auc_score:',roc_auc_score(y,y_prob,multi_class='ovo',average='macro'))\n",
    "    print('Confusion matrix\\n')\n",
    "    conf=confusion_matrix(y,pred)\n",
    "    plt.figure(figsize=(6,6))\n",
    "    sns.heatmap(conf,xticklabels=['0','1','2'],yticklabels=['0','1','2'],annot=True,fmt='d',cmap='YlGnBu')\n",
    "    plt.xlabel('Predicted_values')\n",
    "    plt.ylabel('True_values')"
   ]
  },
  {
   "cell_type": "code",
   "execution_count": 45,
   "metadata": {},
   "outputs": [],
   "source": [
    "## NN classsifier\n",
    "y_trainB=to_categorical(y_trainA)\n",
    "y_valB=to_categorical(y_val)"
   ]
  },
  {
   "cell_type": "code",
   "execution_count": 44,
   "metadata": {},
   "outputs": [],
   "source": [
    "#opt1=RAdam(learning_rate=0.1)"
   ]
  },
  {
   "cell_type": "code",
   "execution_count": 48,
   "metadata": {},
   "outputs": [],
   "source": [
    "model_NN=Sequential()\n",
    "model_NN.add(Dense(200,activation='relu',kernel_initializer='glorot_normal',name='fc1',input_dim=encoded_features_train.shape[1]))\n",
    "model_NN.add(BatchNormalization())\n",
    "model_NN.add(Dropout(0.1))\n",
    "model_NN.add(Dense(50,activation='relu',name='fc2'))\n",
    "#model_NN.add(Dropout(0.1))\n",
    "model_NN.add(Dense(3,activation='softmax'))\n",
    "\n",
    "\n",
    "mc=ModelCheckpoint('best_model.h5',monitor='val_accuracy',mode='max',save_best_only=True)\n",
    "model_NN.compile(loss='categorical_crossentropy',optimizer='adam',metrics=['accuracy'])"
   ]
  },
  {
   "cell_type": "code",
   "execution_count": 49,
   "metadata": {},
   "outputs": [
    {
     "name": "stdout",
     "output_type": "stream",
     "text": [
      "Train on 79217 samples, validate on 4898 samples\n",
      "Epoch 1/10\n",
      " - 10s - loss: 0.8483 - accuracy: 0.5798 - val_loss: 0.8809 - val_accuracy: 0.5619\n",
      "Epoch 2/10\n",
      " - 10s - loss: 0.8125 - accuracy: 0.6018 - val_loss: 0.8122 - val_accuracy: 0.5915\n",
      "Epoch 3/10\n",
      " - 10s - loss: 0.7975 - accuracy: 0.6112 - val_loss: 0.7992 - val_accuracy: 0.6021\n",
      "Epoch 4/10\n",
      " - 10s - loss: 0.7856 - accuracy: 0.6172 - val_loss: 0.7913 - val_accuracy: 0.6119\n",
      "Epoch 5/10\n",
      " - 10s - loss: 0.7754 - accuracy: 0.6264 - val_loss: 0.7892 - val_accuracy: 0.6129\n",
      "Epoch 6/10\n",
      " - 10s - loss: 0.7661 - accuracy: 0.6317 - val_loss: 0.7713 - val_accuracy: 0.6160\n",
      "Epoch 7/10\n",
      " - 10s - loss: 0.7599 - accuracy: 0.6365 - val_loss: 0.7827 - val_accuracy: 0.6139\n",
      "Epoch 8/10\n",
      " - 10s - loss: 0.7538 - accuracy: 0.6385 - val_loss: 0.7590 - val_accuracy: 0.6264\n",
      "Epoch 9/10\n",
      " - 10s - loss: 0.7475 - accuracy: 0.6426 - val_loss: 0.7639 - val_accuracy: 0.6264\n",
      "Epoch 10/10\n",
      " - 10s - loss: 0.7426 - accuracy: 0.6445 - val_loss: 0.7549 - val_accuracy: 0.6321\n"
     ]
    },
    {
     "data": {
      "text/plain": [
       "<keras.callbacks.callbacks.History at 0x20e92bb5f88>"
      ]
     },
     "execution_count": 49,
     "metadata": {},
     "output_type": "execute_result"
    }
   ],
   "source": [
    "model_NN.fit(encoded_features_train,y_trainB,epochs=10,batch_size=32,validation_data=(encoded_features_val,y_valB),verbose=2,callbacks=[mc])\n"
   ]
  },
  {
   "cell_type": "code",
   "execution_count": 47,
   "metadata": {},
   "outputs": [],
   "source": [
    "sv_model=load_model('best_model.h5')"
   ]
  },
  {
   "cell_type": "code",
   "execution_count": 48,
   "metadata": {},
   "outputs": [
    {
     "name": "stdout",
     "output_type": "stream",
     "text": [
      "0.6036088842058991\n"
     ]
    }
   ],
   "source": [
    "pred=np.argmax(sv_model.predict(X_val2),axis=1)\n",
    "print(f1_score(y_val,pred,average='macro'))\n",
    "proba_nn_val=sv_model.predict_proba(X_val2)\n",
    "proba_nn=sv_model.predict_proba(X_test2)\n",
    "p4=np.argmax(sv_model.predict_proba(X_test2),axis=1)"
   ]
  },
  {
   "cell_type": "code",
   "execution_count": 49,
   "metadata": {},
   "outputs": [
    {
     "data": {
      "text/plain": [
       "array([[296,  57,  22],\n",
       "       [ 52,  86,  18],\n",
       "       [ 14,  16,  30]], dtype=int64)"
      ]
     },
     "execution_count": 49,
     "metadata": {},
     "output_type": "execute_result"
    }
   ],
   "source": [
    "confusion_matrix(y_val,pred)"
   ]
  },
  {
   "cell_type": "markdown",
   "metadata": {},
   "source": [
    "#### Logistic Regression"
   ]
  },
  {
   "cell_type": "code",
   "execution_count": 50,
   "metadata": {},
   "outputs": [
    {
     "data": {
      "text/plain": [
       "LogisticRegression(C=0.5, max_iter=1000, multi_class='ovr')"
      ]
     },
     "execution_count": 50,
     "metadata": {},
     "output_type": "execute_result"
    }
   ],
   "source": [
    "lr.fit(X_train2,y_trainA)"
   ]
  },
  {
   "cell_type": "code",
   "execution_count": 51,
   "metadata": {},
   "outputs": [
    {
     "name": "stdout",
     "output_type": "stream",
     "text": [
      "f1_score: 0.5910092553207804\n",
      "auc_score: 0.824067094017094\n",
      "Confusion matrix\n",
      "\n"
     ]
    },
    {
     "data": {
      "image/png": "[encoded data removed]",
      "text/plain": [
       "<Figure size 432x432 with 2 Axes>"
      ]
     },
     "metadata": {
      "needs_background": "light"
     },
     "output_type": "display_data"
    }
   ],
   "source": [
    "model_eval(lr)"
   ]
  },
  {
   "cell_type": "markdown",
   "metadata": {},
   "source": [
    "#### Linear Discriminant Analysis"
   ]
  },
  {
   "cell_type": "code",
   "execution_count": 52,
   "metadata": {},
   "outputs": [
    {
     "data": {
      "text/plain": [
       "LinearDiscriminantAnalysis()"
      ]
     },
     "execution_count": 52,
     "metadata": {},
     "output_type": "execute_result"
    }
   ],
   "source": [
    "from sklearn.discriminant_analysis import LinearDiscriminantAnalysis\n",
    "lda=LinearDiscriminantAnalysis()\n",
    "lda.fit(X_train2,y_trainA)"
   ]
  },
  {
   "cell_type": "code",
   "execution_count": 53,
   "metadata": {},
   "outputs": [
    {
     "data": {
      "text/plain": [
       "<matplotlib.collections.PathCollection at 0x1a00aa288c8>"
      ]
     },
     "execution_count": 53,
     "metadata": {},
     "output_type": "execute_result"
    },
    {
     "data": {
      "image/png": "[encoded data removed]",
      "text/plain": [
       "<Figure size 720x432 with 1 Axes>"
      ]
     },
     "metadata": {
      "needs_background": "light"
     },
     "output_type": "display_data"
    }
   ],
   "source": [
    "temp=lda.transform(X_train2)\n",
    "\n",
    "plt.figure(figsize=(10,6))\n",
    "plt.xlabel('lda_component_1')\n",
    "plt.ylabel('lda_component_2')\n",
    "plt.title('visualizing data using lda components')\n",
    "plt.legend(['class_0','class_1','class_2'])\n",
    "\n",
    "temp0=temp[y_trainA==0]\n",
    "plt.scatter(temp0[:,0],temp0[:,1],color='blue',alpha=0.95)\n",
    "\n",
    "temp1=temp[y_trainA==1]\n",
    "plt.scatter(temp1[:,0],temp1[:,1],color='red',alpha=0.15)\n",
    "\n",
    "temp2=temp[y_trainA==2]\n",
    "plt.scatter(temp2[:,0],temp2[:,1],color='green',alpha=0.05)\n"
   ]
  },
  {
   "cell_type": "markdown",
   "metadata": {},
   "source": [
    "#### LightGBM"
   ]
  },
  {
   "cell_type": "code",
   "execution_count": 54,
   "metadata": {},
   "outputs": [
    {
     "data": {
      "text/plain": [
       "LGBMClassifier(max_depth=10, n_estimators=1000, random_state=23)"
      ]
     },
     "execution_count": 54,
     "metadata": {},
     "output_type": "execute_result"
    }
   ],
   "source": [
    "model3=LGBMClassifier(random_state=23,max_depth=10,n_estimators=1000,)\n",
    "model3.fit(X_train2,y_trainA)"
   ]
  },
  {
   "cell_type": "code",
   "execution_count": 55,
   "metadata": {},
   "outputs": [
    {
     "name": "stdout",
     "output_type": "stream",
     "text": [
      "f1_score: 0.5988475637168448\n",
      "auc_score: 0.8237116809116808\n",
      "Confusion matrix\n",
      "\n"
     ]
    },
    {
     "data": {
      "image/png": "[encoded data removed]",
      "text/plain": [
       "<Figure size 432x432 with 2 Axes>"
      ]
     },
     "metadata": {
      "needs_background": "light"
     },
     "output_type": "display_data"
    }
   ],
   "source": [
    "model_eval(model3)"
   ]
  },
  {
   "cell_type": "code",
   "execution_count": 56,
   "metadata": {},
   "outputs": [],
   "source": [
    "flush_gpu()"
   ]
  },
  {
   "cell_type": "markdown",
   "metadata": {},
   "source": [
    "#### Catboost classifier"
   ]
  },
  {
   "cell_type": "code",
   "execution_count": 57,
   "metadata": {},
   "outputs": [
    {
     "name": "stdout",
     "output_type": "stream",
     "text": [
      "Learning rate set to 0.104386\n",
      "0:\tlearn: 1.0378337\ttotal: 52.8ms\tremaining: 52.7s\n",
      "200:\tlearn: 0.5305375\ttotal: 7.65s\tremaining: 30.4s\n",
      "400:\tlearn: 0.4645989\ttotal: 15.1s\tremaining: 22.5s\n",
      "600:\tlearn: 0.4218808\ttotal: 22.4s\tremaining: 14.9s\n",
      "800:\tlearn: 0.3901973\ttotal: 29.8s\tremaining: 7.41s\n",
      "999:\tlearn: 0.3642357\ttotal: 37.2s\tremaining: 0us\n",
      "Wall time: 40.6 s\n"
     ]
    },
    {
     "data": {
      "text/plain": [
       "<catboost.core.CatBoostClassifier at 0x1a00d88f3c8>"
      ]
     },
     "execution_count": 57,
     "metadata": {},
     "output_type": "execute_result"
    }
   ],
   "source": [
    "%%time\n",
    "model4=CatBoostClassifier(random_state=27,max_depth=10,n_estimators=1000,task_type='GPU',verbose=200)\n",
    "model4.fit(X_train2,y_trainA)"
   ]
  },
  {
   "cell_type": "code",
   "execution_count": 58,
   "metadata": {},
   "outputs": [
    {
     "name": "stdout",
     "output_type": "stream",
     "text": [
      "f1_score: 0.6029934509640273\n",
      "auc_score: 0.8273685185185186\n",
      "Confusion matrix\n",
      "\n"
     ]
    },
    {
     "data": {
      "image/png": "[encoded data removed]",
      "text/plain": [
       "<Figure size 432x432 with 2 Axes>"
      ]
     },
     "metadata": {
      "needs_background": "light"
     },
     "output_type": "display_data"
    }
   ],
   "source": [
    "model_eval(model4)"
   ]
  },
  {
   "cell_type": "code",
   "execution_count": 59,
   "metadata": {},
   "outputs": [
    {
     "data": {
      "text/plain": [
       "0.6029407968056418"
      ]
     },
     "execution_count": 59,
     "metadata": {},
     "output_type": "execute_result"
    }
   ],
   "source": [
    "# ensembling lgbm and catboost\n",
    "#proba_lgbm=model3.predict_proba(X_val2)\n",
    "proba_catboost=model4.predict_proba(X_val2)\n",
    "\n",
    "y_pred_ensemble=np.argmax(0.3*proba_catboost+0.7*proba_nn_val,axis=1)\n",
    "f1_score(y_val,y_pred_ensemble,average='macro')"
   ]
  },
  {
   "cell_type": "code",
   "execution_count": 60,
   "metadata": {},
   "outputs": [],
   "source": [
    "p2=model3.predict_proba(X_test2)\n",
    "p3=model4.predict_proba(X_test2)\n",
    "y_pred_ensemble=np.argmax(0.5*proba_nn+0*p2+0.5*p3,axis=1)"
   ]
  },
  {
   "cell_type": "markdown",
   "metadata": {},
   "source": [
    "###  Making predictions and exporting it to csv"
   ]
  },
  {
   "cell_type": "code",
   "execution_count": 61,
   "metadata": {},
   "outputs": [
    {
     "data": {
      "text/plain": [
       "\"#y_pred_test=model4.predict(X_test2)\\npredictions=pd.DataFrame()\\npredictions['id']=X_test.index\\npredictions['outage_duration']=p4\\npredictions.set_index('id',inplace=True)\\npredictions.to_csv('nn_pred_66.csv',index=True,header=True)\""
      ]
     },
     "execution_count": 61,
     "metadata": {},
     "output_type": "execute_result"
    }
   ],
   "source": [
    "'''#y_pred_test=model4.predict(X_test2)\n",
    "predictions=pd.DataFrame()\n",
    "predictions['id']=X_test.index\n",
    "predictions['outage_duration']=p4\n",
    "predictions.set_index('id',inplace=True)\n",
    "predictions.to_csv('nn_pred_66.csv',index=True,header=True)'''"
   ]
  },
  {
   "cell_type": "code",
   "execution_count": 62,
   "metadata": {},
   "outputs": [
    {
     "data": {
      "text/plain": [
       "Counter({0: 881, 2: 222, 1: 374})"
      ]
     },
     "execution_count": 62,
     "metadata": {},
     "output_type": "execute_result"
    }
   ],
   "source": [
    "Counter(p4)"
   ]
  },
  {
   "cell_type": "code",
   "execution_count": null,
   "metadata": {},
   "outputs": [],
   "source": []
  }
 ],
 "metadata": {
  "hide_input": false,
  "kernelspec": {
   "display_name": "TensorFlow-GPU-2.1.0",
   "language": "python",
   "name": "tf-gpu"
  },
  "language_info": {
   "codemirror_mode": {
    "name": "ipython",
    "version": 3
   },
   "file_extension": ".py",
   "mimetype": "text/x-python",
   "name": "python",
   "nbconvert_exporter": "python",
   "pygments_lexer": "ipython3",
   "version": "3.7.7"
  }
 },
 "nbformat": 4,
 "nbformat_minor": 4
}
